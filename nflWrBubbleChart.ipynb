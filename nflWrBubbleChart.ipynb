{
 "cells": [
  {
   "cell_type": "code",
   "execution_count": 2,
   "id": "786f4849",
   "metadata": {},
   "outputs": [],
   "source": [
    "import urllib.request\n",
    "from pprint import pprint\n",
    "from html_table_parser.parser import HTMLTableParser\n",
    "import pandas as pd"
   ]
  },
  {
   "cell_type": "code",
   "execution_count": 3,
   "id": "a47909ad",
   "metadata": {},
   "outputs": [],
   "source": [
    "def url_get_contents(url):\n",
    "    #making request to the website\n",
    "    req = urllib.request.Request(url=url,headers={\"User-Agent\": \"Mozilla/5.0\"})\n",
    "    f = urllib.request.urlopen(req)\n",
    "    #reading contents of the website\n",
    "    return f.read()"
   ]
  },
  {
   "cell_type": "code",
   "execution_count": 4,
   "id": "6dffb6ad",
   "metadata": {},
   "outputs": [
    {
     "name": "stdout",
     "output_type": "stream",
     "text": [
      "[['Player',\n",
      "  'Rec',\n",
      "  'Yds',\n",
      "  'TD',\n",
      "  '20',\n",
      "  '40',\n",
      "  'LNG',\n",
      "  'Rec 1st',\n",
      "  '1st%',\n",
      "  'Rec FUM',\n",
      "  'Rec YAC/R',\n",
      "  'Tgts'],\n",
      " ['Justin Jefferson',\n",
      "  '128',\n",
      "  '1809',\n",
      "  '8',\n",
      "  '28',\n",
      "  '6',\n",
      "  '64',\n",
      "  '80',\n",
      "  '62.5',\n",
      "  '0',\n",
      "  '613',\n",
      "  '184'],\n",
      " ['Tyreek Hill',\n",
      "  '119',\n",
      "  '1710',\n",
      "  '7',\n",
      "  '25',\n",
      "  '7',\n",
      "  '64',\n",
      "  '77',\n",
      "  '64.7',\n",
      "  '1',\n",
      "  '482',\n",
      "  '170'],\n",
      " ['Travis Kelce',\n",
      "  '110',\n",
      "  '1338',\n",
      "  '12',\n",
      "  '19',\n",
      "  '2',\n",
      "  '52',\n",
      "  '78',\n",
      "  '70.9',\n",
      "  '1',\n",
      "  '657',\n",
      "  '152'],\n",
      " ['Stefon Diggs',\n",
      "  '108',\n",
      "  '1429',\n",
      "  '11',\n",
      "  '17',\n",
      "  '6',\n",
      "  '53',\n",
      "  '72',\n",
      "  '66.7',\n",
      "  '1',\n",
      "  '419',\n",
      "  '154'],\n",
      " ['Austin Ekeler',\n",
      "  '107',\n",
      "  '722',\n",
      "  '5',\n",
      "  '4',\n",
      "  '0',\n",
      "  '23',\n",
      "  '36',\n",
      "  '33.6',\n",
      "  '2',\n",
      "  '848',\n",
      "  '127'],\n",
      " ['CeeDee Lamb',\n",
      "  '107',\n",
      "  '1359',\n",
      "  '9',\n",
      "  '24',\n",
      "  '0',\n",
      "  '39',\n",
      "  '67',\n",
      "  '62.6',\n",
      "  '0',\n",
      "  '486',\n",
      "  '156'],\n",
      " ['Amon-Ra St. Brown',\n",
      "  '106',\n",
      "  '1161',\n",
      "  '6',\n",
      "  '11',\n",
      "  '1',\n",
      "  '49',\n",
      "  '68',\n",
      "  '64.2',\n",
      "  '0',\n",
      "  '531',\n",
      "  '146'],\n",
      " ['Chris Godwin',\n",
      "  '104',\n",
      "  '1023',\n",
      "  '3',\n",
      "  '10',\n",
      "  '1',\n",
      "  '44',\n",
      "  '53',\n",
      "  '51',\n",
      "  '2',\n",
      "  '531',\n",
      "  '142'],\n",
      " ['Davante Adams',\n",
      "  '100',\n",
      "  '1516',\n",
      "  '14',\n",
      "  '24',\n",
      "  '7',\n",
      "  '60',\n",
      "  '65',\n",
      "  '65',\n",
      "  '1',\n",
      "  '493',\n",
      "  '180'],\n",
      " ['Michael Pittman',\n",
      "  '99',\n",
      "  '925',\n",
      "  '4',\n",
      "  '8',\n",
      "  '0',\n",
      "  '28',\n",
      "  '51',\n",
      "  '51.5',\n",
      "  '2',\n",
      "  '344',\n",
      "  '141'],\n",
      " ['DeVonta Smith',\n",
      "  '95',\n",
      "  '1196',\n",
      "  '7',\n",
      "  '18',\n",
      "  '4',\n",
      "  '45',\n",
      "  '57',\n",
      "  '60',\n",
      "  '1',\n",
      "  '476',\n",
      "  '136'],\n",
      " ['DK Metcalf',\n",
      "  '90',\n",
      "  '1048',\n",
      "  '6',\n",
      "  '11',\n",
      "  '3',\n",
      "  '54',\n",
      "  '47',\n",
      "  '52.2',\n",
      "  '2',\n",
      "  '211',\n",
      "  '141'],\n",
      " ['A.J. Brown',\n",
      "  '88',\n",
      "  '1496',\n",
      "  '11',\n",
      "  '23',\n",
      "  '6',\n",
      "  '78',\n",
      "  '59',\n",
      "  '67',\n",
      "  '2',\n",
      "  '548',\n",
      "  '145'],\n",
      " ['Ja Marr Chase',\n",
      "  '87',\n",
      "  '1046',\n",
      "  '9',\n",
      "  '13',\n",
      "  '3',\n",
      "  '60',\n",
      "  '58',\n",
      "  '66.7',\n",
      "  '2',\n",
      "  '421',\n",
      "  '134'],\n",
      " ['T.J. Hockenson',\n",
      "  '86',\n",
      "  '914',\n",
      "  '6',\n",
      "  '5',\n",
      "  '2',\n",
      "  '81',\n",
      "  '44',\n",
      "  '51.2',\n",
      "  '1',\n",
      "  '413',\n",
      "  '129'],\n",
      " ['Diontae Johnson',\n",
      "  '86',\n",
      "  '882',\n",
      "  '0',\n",
      "  '7',\n",
      "  '0',\n",
      "  '37',\n",
      "  '45',\n",
      "  '52.3',\n",
      "  '1',\n",
      "  '235',\n",
      "  '147'],\n",
      " ['Christian McCaffrey',\n",
      "  '85',\n",
      "  '741',\n",
      "  '5',\n",
      "  '8',\n",
      "  '1',\n",
      "  '49',\n",
      "  '36',\n",
      "  '42.4',\n",
      "  '0',\n",
      "  '695',\n",
      "  '108'],\n",
      " ['Christian Kirk',\n",
      "  '84',\n",
      "  '1108',\n",
      "  '8',\n",
      "  '18',\n",
      "  '2',\n",
      "  '49',\n",
      "  '55',\n",
      "  '65.5',\n",
      "  '0',\n",
      "  '377',\n",
      "  '133'],\n",
      " ['Tyler Lockett',\n",
      "  '84',\n",
      "  '1033',\n",
      "  '9',\n",
      "  '14',\n",
      "  '1',\n",
      "  '40',\n",
      "  '50',\n",
      "  '59.5',\n",
      "  '1',\n",
      "  '274',\n",
      "  '117'],\n",
      " ['Garrett Wilson',\n",
      "  '83',\n",
      "  '1103',\n",
      "  '4',\n",
      "  '13',\n",
      "  '3',\n",
      "  '60',\n",
      "  '56',\n",
      "  '67.5',\n",
      "  '1',\n",
      "  '384',\n",
      "  '147'],\n",
      " ['Zay Jones',\n",
      "  '82',\n",
      "  '823',\n",
      "  '5',\n",
      "  '7',\n",
      "  '1',\n",
      "  '59',\n",
      "  '44',\n",
      "  '53.7',\n",
      "  '0',\n",
      "  '289',\n",
      "  '121'],\n",
      " ['Brandon Aiyuk',\n",
      "  '78',\n",
      "  '1015',\n",
      "  '8',\n",
      "  '17',\n",
      "  '1',\n",
      "  '54',\n",
      "  '47',\n",
      "  '60.3',\n",
      "  '1',\n",
      "  '388',\n",
      "  '114'],\n",
      " ['Amari Cooper',\n",
      "  '78',\n",
      "  '1160',\n",
      "  '9',\n",
      "  '18',\n",
      "  '4',\n",
      "  '55',\n",
      "  '61',\n",
      "  '78.2',\n",
      "  '0',\n",
      "  '308',\n",
      "  '132'],\n",
      " ['JuJu Smith-Schuster',\n",
      "  '78',\n",
      "  '933',\n",
      "  '3',\n",
      "  '9',\n",
      "  '4',\n",
      "  '53',\n",
      "  '47',\n",
      "  '60.3',\n",
      "  '3',\n",
      "  '465',\n",
      "  '101'],\n",
      " ['Mike Evans',\n",
      "  '77',\n",
      "  '1124',\n",
      "  '6',\n",
      "  '19',\n",
      "  '5',\n",
      "  '63',\n",
      "  '53',\n",
      "  '68.8',\n",
      "  '0',\n",
      "  '216',\n",
      "  '127']]\n",
      "Player        object\n",
      "Rec            int32\n",
      "Yds            int32\n",
      "TD             int32\n",
      "20             int32\n",
      "40             int32\n",
      "LNG            int32\n",
      "Rec 1st        int32\n",
      "1st%         float64\n",
      "Rec FUM        int32\n",
      "Rec YAC/R      int32\n",
      "Tgts           int32\n",
      "dtype: object\n",
      "                 Player  Rec   Yds  TD  20  40  LNG  Rec 1st  1st%  Rec FUM  \\\n",
      "0      Justin Jefferson  128  1809   8  28   6   64       80  62.5        0   \n",
      "1           Tyreek Hill  119  1710   7  25   7   64       77  64.7        1   \n",
      "2          Travis Kelce  110  1338  12  19   2   52       78  70.9        1   \n",
      "3          Stefon Diggs  108  1429  11  17   6   53       72  66.7        1   \n",
      "4         Austin Ekeler  107   722   5   4   0   23       36  33.6        2   \n",
      "5           CeeDee Lamb  107  1359   9  24   0   39       67  62.6        0   \n",
      "6     Amon-Ra St. Brown  106  1161   6  11   1   49       68  64.2        0   \n",
      "7          Chris Godwin  104  1023   3  10   1   44       53  51.0        2   \n",
      "8         Davante Adams  100  1516  14  24   7   60       65  65.0        1   \n",
      "9       Michael Pittman   99   925   4   8   0   28       51  51.5        2   \n",
      "10        DeVonta Smith   95  1196   7  18   4   45       57  60.0        1   \n",
      "11           DK Metcalf   90  1048   6  11   3   54       47  52.2        2   \n",
      "12           A.J. Brown   88  1496  11  23   6   78       59  67.0        2   \n",
      "13        Ja Marr Chase   87  1046   9  13   3   60       58  66.7        2   \n",
      "14       T.J. Hockenson   86   914   6   5   2   81       44  51.2        1   \n",
      "15      Diontae Johnson   86   882   0   7   0   37       45  52.3        1   \n",
      "16  Christian McCaffrey   85   741   5   8   1   49       36  42.4        0   \n",
      "17       Christian Kirk   84  1108   8  18   2   49       55  65.5        0   \n",
      "18        Tyler Lockett   84  1033   9  14   1   40       50  59.5        1   \n",
      "19       Garrett Wilson   83  1103   4  13   3   60       56  67.5        1   \n",
      "20            Zay Jones   82   823   5   7   1   59       44  53.7        0   \n",
      "21        Brandon Aiyuk   78  1015   8  17   1   54       47  60.3        1   \n",
      "22         Amari Cooper   78  1160   9  18   4   55       61  78.2        0   \n",
      "23  JuJu Smith-Schuster   78   933   3   9   4   53       47  60.3        3   \n",
      "24           Mike Evans   77  1124   6  19   5   63       53  68.8        0   \n",
      "\n",
      "    Rec YAC/R  Tgts  \n",
      "0         613   184  \n",
      "1         482   170  \n",
      "2         657   152  \n",
      "3         419   154  \n",
      "4         848   127  \n",
      "5         486   156  \n",
      "6         531   146  \n",
      "7         531   142  \n",
      "8         493   180  \n",
      "9         344   141  \n",
      "10        476   136  \n",
      "11        211   141  \n",
      "12        548   145  \n",
      "13        421   134  \n",
      "14        413   129  \n",
      "15        235   147  \n",
      "16        695   108  \n",
      "17        377   133  \n",
      "18        274   117  \n",
      "19        384   147  \n",
      "20        289   121  \n",
      "21        388   114  \n",
      "22        308   132  \n",
      "23        465   101  \n",
      "24        216   127  \n"
     ]
    }
   ],
   "source": [
    "# defining the html contents of a URL.\n",
    "xhtml = url_get_contents('https://www.nfl.com/stats/player-stats/category/receiving/2022/REG/all/receivingreceptions/desc').decode('utf-8')\n",
    " \n",
    "# Defining the HTMLTableParser object\n",
    "p = HTMLTableParser()\n",
    " \n",
    "# feeding the html contents in the HTMLTableParser object\n",
    "p.feed(xhtml)\n",
    "\n",
    "pprint(p.tables[0])\n",
    "# turn into df and set headers\n",
    "df = pd.DataFrame(p.tables[0])\n",
    "df = df.rename(columns=df.iloc[0]).drop(df.index[0]).reset_index(drop=True)\n",
    "# set data types\n",
    "convert_dict = {\n",
    "    'Player': str,\n",
    "    'Rec': int,\n",
    "    'Yds': int,\n",
    "    'TD': int,\n",
    "    '20': int,\n",
    "    '40': int,\n",
    "    'LNG': int,\n",
    "    'Rec 1st': int,\n",
    "    '1st%': float,\n",
    "    'Rec FUM': int,\n",
    "    'Rec YAC/R': int,\n",
    "    'Tgts': int\n",
    "               }  \n",
    "  \n",
    "df = df.astype(convert_dict)  \n",
    "print(df.dtypes)\n",
    "print(df)"
   ]
  },
  {
   "cell_type": "code",
   "execution_count": 5,
   "id": "287afdd8",
   "metadata": {},
   "outputs": [
    {
     "data": {
      "text/html": [
       "<div>\n",
       "<style scoped>\n",
       "    .dataframe tbody tr th:only-of-type {\n",
       "        vertical-align: middle;\n",
       "    }\n",
       "\n",
       "    .dataframe tbody tr th {\n",
       "        vertical-align: top;\n",
       "    }\n",
       "\n",
       "    .dataframe thead th {\n",
       "        text-align: right;\n",
       "    }\n",
       "</style>\n",
       "<table border=\"1\" class=\"dataframe\">\n",
       "  <thead>\n",
       "    <tr style=\"text-align: right;\">\n",
       "      <th></th>\n",
       "      <th>Player</th>\n",
       "      <th>Rec</th>\n",
       "      <th>Yds</th>\n",
       "      <th>TD</th>\n",
       "      <th>20</th>\n",
       "      <th>40</th>\n",
       "      <th>LNG</th>\n",
       "      <th>Rec 1st</th>\n",
       "      <th>1st%</th>\n",
       "      <th>Rec FUM</th>\n",
       "      <th>Rec YAC/R</th>\n",
       "      <th>Tgts</th>\n",
       "      <th>Player_tin</th>\n",
       "      <th>Team</th>\n",
       "      <th>color_primary</th>\n",
       "      <th>color_secondary</th>\n",
       "    </tr>\n",
       "  </thead>\n",
       "  <tbody>\n",
       "    <tr>\n",
       "      <th>0</th>\n",
       "      <td>Justin Jefferson</td>\n",
       "      <td>128</td>\n",
       "      <td>1809</td>\n",
       "      <td>8</td>\n",
       "      <td>28</td>\n",
       "      <td>6</td>\n",
       "      <td>64</td>\n",
       "      <td>80</td>\n",
       "      <td>62.5</td>\n",
       "      <td>0</td>\n",
       "      <td>613</td>\n",
       "      <td>184</td>\n",
       "      <td>Justin Jefferson</td>\n",
       "      <td>Minnesota Vikings</td>\n",
       "      <td>#4F2683</td>\n",
       "      <td>#FFC62F</td>\n",
       "    </tr>\n",
       "    <tr>\n",
       "      <th>1</th>\n",
       "      <td>Tyreek Hill</td>\n",
       "      <td>119</td>\n",
       "      <td>1710</td>\n",
       "      <td>7</td>\n",
       "      <td>25</td>\n",
       "      <td>7</td>\n",
       "      <td>64</td>\n",
       "      <td>77</td>\n",
       "      <td>64.7</td>\n",
       "      <td>1</td>\n",
       "      <td>482</td>\n",
       "      <td>170</td>\n",
       "      <td>Tyreek Hill</td>\n",
       "      <td>Miami Dolphins</td>\n",
       "      <td>#008E97</td>\n",
       "      <td>#FC4C02</td>\n",
       "    </tr>\n",
       "    <tr>\n",
       "      <th>2</th>\n",
       "      <td>Travis Kelce</td>\n",
       "      <td>110</td>\n",
       "      <td>1338</td>\n",
       "      <td>12</td>\n",
       "      <td>19</td>\n",
       "      <td>2</td>\n",
       "      <td>52</td>\n",
       "      <td>78</td>\n",
       "      <td>70.9</td>\n",
       "      <td>1</td>\n",
       "      <td>657</td>\n",
       "      <td>152</td>\n",
       "      <td>Travis Kelce</td>\n",
       "      <td>Kansas City Chiefs</td>\n",
       "      <td>#E31837</td>\n",
       "      <td>#FFB81C</td>\n",
       "    </tr>\n",
       "    <tr>\n",
       "      <th>3</th>\n",
       "      <td>Stefon Diggs</td>\n",
       "      <td>108</td>\n",
       "      <td>1429</td>\n",
       "      <td>11</td>\n",
       "      <td>17</td>\n",
       "      <td>6</td>\n",
       "      <td>53</td>\n",
       "      <td>72</td>\n",
       "      <td>66.7</td>\n",
       "      <td>1</td>\n",
       "      <td>419</td>\n",
       "      <td>154</td>\n",
       "      <td>Stefon Diggs</td>\n",
       "      <td>Buffalo Bills</td>\n",
       "      <td>#00338D</td>\n",
       "      <td>#C60C30</td>\n",
       "    </tr>\n",
       "    <tr>\n",
       "      <th>4</th>\n",
       "      <td>Austin Ekeler</td>\n",
       "      <td>107</td>\n",
       "      <td>722</td>\n",
       "      <td>5</td>\n",
       "      <td>4</td>\n",
       "      <td>0</td>\n",
       "      <td>23</td>\n",
       "      <td>36</td>\n",
       "      <td>33.6</td>\n",
       "      <td>2</td>\n",
       "      <td>848</td>\n",
       "      <td>127</td>\n",
       "      <td>Austin Ekeler</td>\n",
       "      <td>Los Angeles Chargers</td>\n",
       "      <td>#0080C6</td>\n",
       "      <td>#FFC20E</td>\n",
       "    </tr>\n",
       "    <tr>\n",
       "      <th>5</th>\n",
       "      <td>CeeDee Lamb</td>\n",
       "      <td>107</td>\n",
       "      <td>1359</td>\n",
       "      <td>9</td>\n",
       "      <td>24</td>\n",
       "      <td>0</td>\n",
       "      <td>39</td>\n",
       "      <td>67</td>\n",
       "      <td>62.6</td>\n",
       "      <td>0</td>\n",
       "      <td>486</td>\n",
       "      <td>156</td>\n",
       "      <td>CeeDee Lamb</td>\n",
       "      <td>Dallas Cowboys</td>\n",
       "      <td>#003594</td>\n",
       "      <td>#041E42</td>\n",
       "    </tr>\n",
       "    <tr>\n",
       "      <th>6</th>\n",
       "      <td>Amon-Ra St. Brown</td>\n",
       "      <td>106</td>\n",
       "      <td>1161</td>\n",
       "      <td>6</td>\n",
       "      <td>11</td>\n",
       "      <td>1</td>\n",
       "      <td>49</td>\n",
       "      <td>68</td>\n",
       "      <td>64.2</td>\n",
       "      <td>0</td>\n",
       "      <td>531</td>\n",
       "      <td>146</td>\n",
       "      <td>Amon-Ra St. Brown</td>\n",
       "      <td>Detroit Lions</td>\n",
       "      <td>#0076B6</td>\n",
       "      <td>#B0B7BC</td>\n",
       "    </tr>\n",
       "    <tr>\n",
       "      <th>7</th>\n",
       "      <td>Chris Godwin</td>\n",
       "      <td>104</td>\n",
       "      <td>1023</td>\n",
       "      <td>3</td>\n",
       "      <td>10</td>\n",
       "      <td>1</td>\n",
       "      <td>44</td>\n",
       "      <td>53</td>\n",
       "      <td>51.0</td>\n",
       "      <td>2</td>\n",
       "      <td>531</td>\n",
       "      <td>142</td>\n",
       "      <td>Chris Godwin</td>\n",
       "      <td>Tampa Bay Buccanneers</td>\n",
       "      <td>#D50A0A</td>\n",
       "      <td>#FF7900</td>\n",
       "    </tr>\n",
       "    <tr>\n",
       "      <th>8</th>\n",
       "      <td>Davante Adams</td>\n",
       "      <td>100</td>\n",
       "      <td>1516</td>\n",
       "      <td>14</td>\n",
       "      <td>24</td>\n",
       "      <td>7</td>\n",
       "      <td>60</td>\n",
       "      <td>65</td>\n",
       "      <td>65.0</td>\n",
       "      <td>1</td>\n",
       "      <td>493</td>\n",
       "      <td>180</td>\n",
       "      <td>Davante Adams</td>\n",
       "      <td>Las Vegas Raiders</td>\n",
       "      <td>#000000</td>\n",
       "      <td>#A5ACAF</td>\n",
       "    </tr>\n",
       "    <tr>\n",
       "      <th>9</th>\n",
       "      <td>Michael Pittman</td>\n",
       "      <td>99</td>\n",
       "      <td>925</td>\n",
       "      <td>4</td>\n",
       "      <td>8</td>\n",
       "      <td>0</td>\n",
       "      <td>28</td>\n",
       "      <td>51</td>\n",
       "      <td>51.5</td>\n",
       "      <td>2</td>\n",
       "      <td>344</td>\n",
       "      <td>141</td>\n",
       "      <td>Michael Pittman</td>\n",
       "      <td>Indianapolis Colts</td>\n",
       "      <td>#002C5F</td>\n",
       "      <td>#A2AAAD</td>\n",
       "    </tr>\n",
       "    <tr>\n",
       "      <th>10</th>\n",
       "      <td>DeVonta Smith</td>\n",
       "      <td>95</td>\n",
       "      <td>1196</td>\n",
       "      <td>7</td>\n",
       "      <td>18</td>\n",
       "      <td>4</td>\n",
       "      <td>45</td>\n",
       "      <td>57</td>\n",
       "      <td>60.0</td>\n",
       "      <td>1</td>\n",
       "      <td>476</td>\n",
       "      <td>136</td>\n",
       "      <td>DeVonta Smith</td>\n",
       "      <td>Philadelphia Eagles</td>\n",
       "      <td>#004C54</td>\n",
       "      <td>#A5ACAF</td>\n",
       "    </tr>\n",
       "    <tr>\n",
       "      <th>11</th>\n",
       "      <td>DK Metcalf</td>\n",
       "      <td>90</td>\n",
       "      <td>1048</td>\n",
       "      <td>6</td>\n",
       "      <td>11</td>\n",
       "      <td>3</td>\n",
       "      <td>54</td>\n",
       "      <td>47</td>\n",
       "      <td>52.2</td>\n",
       "      <td>2</td>\n",
       "      <td>211</td>\n",
       "      <td>141</td>\n",
       "      <td>DK Metcalf</td>\n",
       "      <td>Seattle Seahawks</td>\n",
       "      <td>#002244</td>\n",
       "      <td>#69BE28</td>\n",
       "    </tr>\n",
       "    <tr>\n",
       "      <th>12</th>\n",
       "      <td>A.J. Brown</td>\n",
       "      <td>88</td>\n",
       "      <td>1496</td>\n",
       "      <td>11</td>\n",
       "      <td>23</td>\n",
       "      <td>6</td>\n",
       "      <td>78</td>\n",
       "      <td>59</td>\n",
       "      <td>67.0</td>\n",
       "      <td>2</td>\n",
       "      <td>548</td>\n",
       "      <td>145</td>\n",
       "      <td>A.J. Brown</td>\n",
       "      <td>Philadelphia Eagles</td>\n",
       "      <td>#004C54</td>\n",
       "      <td>#A5ACAF</td>\n",
       "    </tr>\n",
       "    <tr>\n",
       "      <th>13</th>\n",
       "      <td>Ja Marr Chase</td>\n",
       "      <td>87</td>\n",
       "      <td>1046</td>\n",
       "      <td>9</td>\n",
       "      <td>13</td>\n",
       "      <td>3</td>\n",
       "      <td>60</td>\n",
       "      <td>58</td>\n",
       "      <td>66.7</td>\n",
       "      <td>2</td>\n",
       "      <td>421</td>\n",
       "      <td>134</td>\n",
       "      <td>Ja Marr Chase</td>\n",
       "      <td>Cincinnati Bengals</td>\n",
       "      <td>#FB4F14</td>\n",
       "      <td>#000000</td>\n",
       "    </tr>\n",
       "    <tr>\n",
       "      <th>14</th>\n",
       "      <td>T.J. Hockenson</td>\n",
       "      <td>86</td>\n",
       "      <td>914</td>\n",
       "      <td>6</td>\n",
       "      <td>5</td>\n",
       "      <td>2</td>\n",
       "      <td>81</td>\n",
       "      <td>44</td>\n",
       "      <td>51.2</td>\n",
       "      <td>1</td>\n",
       "      <td>413</td>\n",
       "      <td>129</td>\n",
       "      <td>T.J. Hockenson</td>\n",
       "      <td>Minnesota Vikings</td>\n",
       "      <td>#4F2683</td>\n",
       "      <td>#FFC62F</td>\n",
       "    </tr>\n",
       "    <tr>\n",
       "      <th>15</th>\n",
       "      <td>Diontae Johnson</td>\n",
       "      <td>86</td>\n",
       "      <td>882</td>\n",
       "      <td>0</td>\n",
       "      <td>7</td>\n",
       "      <td>0</td>\n",
       "      <td>37</td>\n",
       "      <td>45</td>\n",
       "      <td>52.3</td>\n",
       "      <td>1</td>\n",
       "      <td>235</td>\n",
       "      <td>147</td>\n",
       "      <td>Diontae Johnson</td>\n",
       "      <td>Pittsburgh Steelers</td>\n",
       "      <td>#FFB612</td>\n",
       "      <td>#101820</td>\n",
       "    </tr>\n",
       "    <tr>\n",
       "      <th>16</th>\n",
       "      <td>Christian McCaffrey</td>\n",
       "      <td>85</td>\n",
       "      <td>741</td>\n",
       "      <td>5</td>\n",
       "      <td>8</td>\n",
       "      <td>1</td>\n",
       "      <td>49</td>\n",
       "      <td>36</td>\n",
       "      <td>42.4</td>\n",
       "      <td>0</td>\n",
       "      <td>695</td>\n",
       "      <td>108</td>\n",
       "      <td>Christian McCaffrey</td>\n",
       "      <td>San Francisco 49ers</td>\n",
       "      <td>#AA0000</td>\n",
       "      <td>#B3995D</td>\n",
       "    </tr>\n",
       "    <tr>\n",
       "      <th>17</th>\n",
       "      <td>Christian Kirk</td>\n",
       "      <td>84</td>\n",
       "      <td>1108</td>\n",
       "      <td>8</td>\n",
       "      <td>18</td>\n",
       "      <td>2</td>\n",
       "      <td>49</td>\n",
       "      <td>55</td>\n",
       "      <td>65.5</td>\n",
       "      <td>0</td>\n",
       "      <td>377</td>\n",
       "      <td>133</td>\n",
       "      <td>Christian Kirk</td>\n",
       "      <td>Jacksonville Jaguars</td>\n",
       "      <td>#101820</td>\n",
       "      <td>#D7A22A</td>\n",
       "    </tr>\n",
       "    <tr>\n",
       "      <th>18</th>\n",
       "      <td>Tyler Lockett</td>\n",
       "      <td>84</td>\n",
       "      <td>1033</td>\n",
       "      <td>9</td>\n",
       "      <td>14</td>\n",
       "      <td>1</td>\n",
       "      <td>40</td>\n",
       "      <td>50</td>\n",
       "      <td>59.5</td>\n",
       "      <td>1</td>\n",
       "      <td>274</td>\n",
       "      <td>117</td>\n",
       "      <td>Tyler Lockett</td>\n",
       "      <td>Seattle Seahawks</td>\n",
       "      <td>#002244</td>\n",
       "      <td>#69BE28</td>\n",
       "    </tr>\n",
       "    <tr>\n",
       "      <th>19</th>\n",
       "      <td>Garrett Wilson</td>\n",
       "      <td>83</td>\n",
       "      <td>1103</td>\n",
       "      <td>4</td>\n",
       "      <td>13</td>\n",
       "      <td>3</td>\n",
       "      <td>60</td>\n",
       "      <td>56</td>\n",
       "      <td>67.5</td>\n",
       "      <td>1</td>\n",
       "      <td>384</td>\n",
       "      <td>147</td>\n",
       "      <td>Garrett Wilson</td>\n",
       "      <td>New York Jets</td>\n",
       "      <td>#125740</td>\n",
       "      <td>#000000</td>\n",
       "    </tr>\n",
       "    <tr>\n",
       "      <th>20</th>\n",
       "      <td>Zay Jones</td>\n",
       "      <td>82</td>\n",
       "      <td>823</td>\n",
       "      <td>5</td>\n",
       "      <td>7</td>\n",
       "      <td>1</td>\n",
       "      <td>59</td>\n",
       "      <td>44</td>\n",
       "      <td>53.7</td>\n",
       "      <td>0</td>\n",
       "      <td>289</td>\n",
       "      <td>121</td>\n",
       "      <td>Zay Jones</td>\n",
       "      <td>Jacksonville Jaguars</td>\n",
       "      <td>#101820</td>\n",
       "      <td>#D7A22A</td>\n",
       "    </tr>\n",
       "    <tr>\n",
       "      <th>21</th>\n",
       "      <td>Brandon Aiyuk</td>\n",
       "      <td>78</td>\n",
       "      <td>1015</td>\n",
       "      <td>8</td>\n",
       "      <td>17</td>\n",
       "      <td>1</td>\n",
       "      <td>54</td>\n",
       "      <td>47</td>\n",
       "      <td>60.3</td>\n",
       "      <td>1</td>\n",
       "      <td>388</td>\n",
       "      <td>114</td>\n",
       "      <td>Brandon Aiyuk</td>\n",
       "      <td>San Francisco 49ers</td>\n",
       "      <td>#AA0000</td>\n",
       "      <td>#B3995D</td>\n",
       "    </tr>\n",
       "    <tr>\n",
       "      <th>22</th>\n",
       "      <td>Amari Cooper</td>\n",
       "      <td>78</td>\n",
       "      <td>1160</td>\n",
       "      <td>9</td>\n",
       "      <td>18</td>\n",
       "      <td>4</td>\n",
       "      <td>55</td>\n",
       "      <td>61</td>\n",
       "      <td>78.2</td>\n",
       "      <td>0</td>\n",
       "      <td>308</td>\n",
       "      <td>132</td>\n",
       "      <td>Amari Cooper</td>\n",
       "      <td>Cleveland Browns</td>\n",
       "      <td>#311D00</td>\n",
       "      <td>#FF3C00</td>\n",
       "    </tr>\n",
       "    <tr>\n",
       "      <th>23</th>\n",
       "      <td>JuJu Smith-Schuster</td>\n",
       "      <td>78</td>\n",
       "      <td>933</td>\n",
       "      <td>3</td>\n",
       "      <td>9</td>\n",
       "      <td>4</td>\n",
       "      <td>53</td>\n",
       "      <td>47</td>\n",
       "      <td>60.3</td>\n",
       "      <td>3</td>\n",
       "      <td>465</td>\n",
       "      <td>101</td>\n",
       "      <td>JuJu Smith-Schuster</td>\n",
       "      <td>Kansas City Chiefs</td>\n",
       "      <td>#E31837</td>\n",
       "      <td>#FFB81C</td>\n",
       "    </tr>\n",
       "    <tr>\n",
       "      <th>24</th>\n",
       "      <td>Mike Evans</td>\n",
       "      <td>77</td>\n",
       "      <td>1124</td>\n",
       "      <td>6</td>\n",
       "      <td>19</td>\n",
       "      <td>5</td>\n",
       "      <td>63</td>\n",
       "      <td>53</td>\n",
       "      <td>68.8</td>\n",
       "      <td>0</td>\n",
       "      <td>216</td>\n",
       "      <td>127</td>\n",
       "      <td>Mike Evans</td>\n",
       "      <td>Tampa Bay Buccaneers</td>\n",
       "      <td>#D50A0A</td>\n",
       "      <td>#FF7900</td>\n",
       "    </tr>\n",
       "  </tbody>\n",
       "</table>\n",
       "</div>"
      ],
      "text/plain": [
       "                 Player  Rec   Yds  TD  20  40  LNG  Rec 1st  1st%  Rec FUM  \\\n",
       "0      Justin Jefferson  128  1809   8  28   6   64       80  62.5        0   \n",
       "1           Tyreek Hill  119  1710   7  25   7   64       77  64.7        1   \n",
       "2          Travis Kelce  110  1338  12  19   2   52       78  70.9        1   \n",
       "3          Stefon Diggs  108  1429  11  17   6   53       72  66.7        1   \n",
       "4         Austin Ekeler  107   722   5   4   0   23       36  33.6        2   \n",
       "5           CeeDee Lamb  107  1359   9  24   0   39       67  62.6        0   \n",
       "6     Amon-Ra St. Brown  106  1161   6  11   1   49       68  64.2        0   \n",
       "7          Chris Godwin  104  1023   3  10   1   44       53  51.0        2   \n",
       "8         Davante Adams  100  1516  14  24   7   60       65  65.0        1   \n",
       "9       Michael Pittman   99   925   4   8   0   28       51  51.5        2   \n",
       "10        DeVonta Smith   95  1196   7  18   4   45       57  60.0        1   \n",
       "11           DK Metcalf   90  1048   6  11   3   54       47  52.2        2   \n",
       "12           A.J. Brown   88  1496  11  23   6   78       59  67.0        2   \n",
       "13        Ja Marr Chase   87  1046   9  13   3   60       58  66.7        2   \n",
       "14       T.J. Hockenson   86   914   6   5   2   81       44  51.2        1   \n",
       "15      Diontae Johnson   86   882   0   7   0   37       45  52.3        1   \n",
       "16  Christian McCaffrey   85   741   5   8   1   49       36  42.4        0   \n",
       "17       Christian Kirk   84  1108   8  18   2   49       55  65.5        0   \n",
       "18        Tyler Lockett   84  1033   9  14   1   40       50  59.5        1   \n",
       "19       Garrett Wilson   83  1103   4  13   3   60       56  67.5        1   \n",
       "20            Zay Jones   82   823   5   7   1   59       44  53.7        0   \n",
       "21        Brandon Aiyuk   78  1015   8  17   1   54       47  60.3        1   \n",
       "22         Amari Cooper   78  1160   9  18   4   55       61  78.2        0   \n",
       "23  JuJu Smith-Schuster   78   933   3   9   4   53       47  60.3        3   \n",
       "24           Mike Evans   77  1124   6  19   5   63       53  68.8        0   \n",
       "\n",
       "    Rec YAC/R  Tgts           Player_tin                   Team color_primary  \\\n",
       "0         613   184     Justin Jefferson      Minnesota Vikings       #4F2683   \n",
       "1         482   170          Tyreek Hill         Miami Dolphins       #008E97   \n",
       "2         657   152         Travis Kelce     Kansas City Chiefs       #E31837   \n",
       "3         419   154         Stefon Diggs          Buffalo Bills       #00338D   \n",
       "4         848   127        Austin Ekeler   Los Angeles Chargers       #0080C6   \n",
       "5         486   156          CeeDee Lamb         Dallas Cowboys       #003594   \n",
       "6         531   146    Amon-Ra St. Brown          Detroit Lions       #0076B6   \n",
       "7         531   142         Chris Godwin  Tampa Bay Buccanneers       #D50A0A   \n",
       "8         493   180        Davante Adams      Las Vegas Raiders       #000000   \n",
       "9         344   141      Michael Pittman     Indianapolis Colts       #002C5F   \n",
       "10        476   136        DeVonta Smith    Philadelphia Eagles       #004C54   \n",
       "11        211   141           DK Metcalf       Seattle Seahawks       #002244   \n",
       "12        548   145           A.J. Brown    Philadelphia Eagles       #004C54   \n",
       "13        421   134        Ja Marr Chase     Cincinnati Bengals       #FB4F14   \n",
       "14        413   129       T.J. Hockenson      Minnesota Vikings       #4F2683   \n",
       "15        235   147      Diontae Johnson    Pittsburgh Steelers       #FFB612   \n",
       "16        695   108  Christian McCaffrey    San Francisco 49ers       #AA0000   \n",
       "17        377   133       Christian Kirk   Jacksonville Jaguars       #101820   \n",
       "18        274   117        Tyler Lockett       Seattle Seahawks       #002244   \n",
       "19        384   147       Garrett Wilson          New York Jets       #125740   \n",
       "20        289   121            Zay Jones   Jacksonville Jaguars       #101820   \n",
       "21        388   114        Brandon Aiyuk    San Francisco 49ers       #AA0000   \n",
       "22        308   132         Amari Cooper       Cleveland Browns       #311D00   \n",
       "23        465   101  JuJu Smith-Schuster     Kansas City Chiefs       #E31837   \n",
       "24        216   127           Mike Evans   Tampa Bay Buccaneers       #D50A0A   \n",
       "\n",
       "   color_secondary  \n",
       "0          #FFC62F  \n",
       "1          #FC4C02  \n",
       "2          #FFB81C  \n",
       "3          #C60C30  \n",
       "4          #FFC20E  \n",
       "5          #041E42  \n",
       "6          #B0B7BC  \n",
       "7          #FF7900  \n",
       "8          #A5ACAF  \n",
       "9          #A2AAAD  \n",
       "10         #A5ACAF  \n",
       "11         #69BE28  \n",
       "12         #A5ACAF  \n",
       "13         #000000  \n",
       "14         #FFC62F  \n",
       "15         #101820  \n",
       "16         #B3995D  \n",
       "17         #D7A22A  \n",
       "18         #69BE28  \n",
       "19         #000000  \n",
       "20         #D7A22A  \n",
       "21         #B3995D  \n",
       "22         #FF3C00  \n",
       "23         #FFB81C  \n",
       "24         #FF7900  "
      ]
     },
     "execution_count": 5,
     "metadata": {},
     "output_type": "execute_result"
    }
   ],
   "source": [
    "# add teams and colors in csv\n",
    "path = r'C:\\Users\\nickp\\OneDrive\\Desktop\\Home Data Projects\\Viz\\wrBubbleChart\\player_team_colors.csv'\n",
    "df['Player'].to_csv(path,index=False) #adjust data locally and bring back in\n",
    "\n",
    "teamInfo = pd.read_csv(r'C:\\Users\\nickp\\OneDrive\\Desktop\\Home Data Projects\\Viz\\wrBubbleChart\\player_team_colors_add.csv')\n",
    "df = df.join(teamInfo,rsuffix='_tin')\n",
    "df"
   ]
  },
  {
   "cell_type": "code",
   "execution_count": 140,
   "id": "e9d55e67",
   "metadata": {},
   "outputs": [
    {
     "data": {
      "application/vnd.plotly.v1+json": {
       "config": {
        "plotlyServerURL": "https://plot.ly"
       },
       "data": [
        {
         "marker": {
          "color": [
           "#4F2683"
          ],
          "line": {
           "color": [
            "#FFC62F"
           ],
           "width": 3
          },
          "size": [
           28
          ],
          "sizemode": "area",
          "sizeref": 0.0112
         },
         "mode": "markers",
         "name": "Justin Jefferson",
         "text": [
          "Player: Justin Jefferson<br>Receptions: 128<br>Yards: 1809<br>20+ Yd Catches: 28<br>TDs: 8"
         ],
         "type": "scatter",
         "x": [
          128
         ],
         "y": [
          1809
         ]
        },
        {
         "marker": {
          "color": [
           "#008E97"
          ],
          "line": {
           "color": [
            "#FC4C02"
           ],
           "width": 3
          },
          "size": [
           25
          ],
          "sizemode": "area",
          "sizeref": 0.0112
         },
         "mode": "markers",
         "name": "Tyreek Hill",
         "text": [
          "Player: Tyreek Hill<br>Receptions: 119<br>Yards: 1710<br>20+ Yd Catches: 25<br>TDs: 7"
         ],
         "type": "scatter",
         "x": [
          119
         ],
         "y": [
          1710
         ]
        },
        {
         "marker": {
          "color": [
           "#E31837"
          ],
          "line": {
           "color": [
            "#FFB81C"
           ],
           "width": 3
          },
          "size": [
           19
          ],
          "sizemode": "area",
          "sizeref": 0.0112
         },
         "mode": "markers",
         "name": "Travis Kelce",
         "text": [
          "Player: Travis Kelce<br>Receptions: 110<br>Yards: 1338<br>20+ Yd Catches: 19<br>TDs: 12"
         ],
         "type": "scatter",
         "x": [
          110
         ],
         "y": [
          1338
         ]
        },
        {
         "marker": {
          "color": [
           "#00338D"
          ],
          "line": {
           "color": [
            "#C60C30"
           ],
           "width": 3
          },
          "size": [
           17
          ],
          "sizemode": "area",
          "sizeref": 0.0112
         },
         "mode": "markers",
         "name": "Stefon Diggs",
         "text": [
          "Player: Stefon Diggs<br>Receptions: 108<br>Yards: 1429<br>20+ Yd Catches: 17<br>TDs: 11"
         ],
         "type": "scatter",
         "x": [
          108
         ],
         "y": [
          1429
         ]
        },
        {
         "marker": {
          "color": [
           "#0080C6"
          ],
          "line": {
           "color": [
            "#FFC20E"
           ],
           "width": 3
          },
          "size": [
           4
          ],
          "sizemode": "area",
          "sizeref": 0.0112
         },
         "mode": "markers",
         "name": "Austin Ekeler",
         "text": [
          "Player: Austin Ekeler<br>Receptions: 107<br>Yards: 722<br>20+ Yd Catches: 4<br>TDs: 5"
         ],
         "type": "scatter",
         "x": [
          107
         ],
         "y": [
          722
         ]
        },
        {
         "marker": {
          "color": [
           "#003594"
          ],
          "line": {
           "color": [
            "#041E42"
           ],
           "width": 3
          },
          "size": [
           24
          ],
          "sizemode": "area",
          "sizeref": 0.0112
         },
         "mode": "markers",
         "name": "CeeDee Lamb",
         "text": [
          "Player: CeeDee Lamb<br>Receptions: 107<br>Yards: 1359<br>20+ Yd Catches: 24<br>TDs: 9"
         ],
         "type": "scatter",
         "x": [
          107
         ],
         "y": [
          1359
         ]
        },
        {
         "marker": {
          "color": [
           "#0076B6"
          ],
          "line": {
           "color": [
            "#B0B7BC"
           ],
           "width": 3
          },
          "size": [
           11
          ],
          "sizemode": "area",
          "sizeref": 0.0112
         },
         "mode": "markers",
         "name": "Amon-Ra St. Brown",
         "text": [
          "Player: Amon-Ra St. Brown<br>Receptions: 106<br>Yards: 1161<br>20+ Yd Catches: 11<br>TDs: 6"
         ],
         "type": "scatter",
         "x": [
          106
         ],
         "y": [
          1161
         ]
        },
        {
         "marker": {
          "color": [
           "#D50A0A"
          ],
          "line": {
           "color": [
            "#FF7900"
           ],
           "width": 3
          },
          "size": [
           10
          ],
          "sizemode": "area",
          "sizeref": 0.0112
         },
         "mode": "markers",
         "name": "Chris Godwin",
         "text": [
          "Player: Chris Godwin<br>Receptions: 104<br>Yards: 1023<br>20+ Yd Catches: 10<br>TDs: 3"
         ],
         "type": "scatter",
         "x": [
          104
         ],
         "y": [
          1023
         ]
        },
        {
         "marker": {
          "color": [
           "#000000"
          ],
          "line": {
           "color": [
            "#A5ACAF"
           ],
           "width": 3
          },
          "size": [
           24
          ],
          "sizemode": "area",
          "sizeref": 0.0112
         },
         "mode": "markers",
         "name": "Davante Adams",
         "text": [
          "Player: Davante Adams<br>Receptions: 100<br>Yards: 1516<br>20+ Yd Catches: 24<br>TDs: 14"
         ],
         "type": "scatter",
         "x": [
          100
         ],
         "y": [
          1516
         ]
        },
        {
         "marker": {
          "color": [
           "#002C5F"
          ],
          "line": {
           "color": [
            "#A2AAAD"
           ],
           "width": 3
          },
          "size": [
           8
          ],
          "sizemode": "area",
          "sizeref": 0.0112
         },
         "mode": "markers",
         "name": "Michael Pittman",
         "text": [
          "Player: Michael Pittman<br>Receptions: 99<br>Yards: 925<br>20+ Yd Catches: 8<br>TDs: 4"
         ],
         "type": "scatter",
         "x": [
          99
         ],
         "y": [
          925
         ]
        },
        {
         "marker": {
          "color": [
           "#004C54"
          ],
          "line": {
           "color": [
            "#A5ACAF"
           ],
           "width": 3
          },
          "size": [
           18
          ],
          "sizemode": "area",
          "sizeref": 0.0112
         },
         "mode": "markers",
         "name": "DeVonta Smith",
         "text": [
          "Player: DeVonta Smith<br>Receptions: 95<br>Yards: 1196<br>20+ Yd Catches: 18<br>TDs: 7"
         ],
         "type": "scatter",
         "x": [
          95
         ],
         "y": [
          1196
         ]
        },
        {
         "marker": {
          "color": [
           "#002244"
          ],
          "line": {
           "color": [
            "#69BE28"
           ],
           "width": 3
          },
          "size": [
           11
          ],
          "sizemode": "area",
          "sizeref": 0.0112
         },
         "mode": "markers",
         "name": "DK Metcalf",
         "text": [
          "Player: DK Metcalf<br>Receptions: 90<br>Yards: 1048<br>20+ Yd Catches: 11<br>TDs: 6"
         ],
         "type": "scatter",
         "x": [
          90
         ],
         "y": [
          1048
         ]
        },
        {
         "marker": {
          "color": [
           "#004C54"
          ],
          "line": {
           "color": [
            "#A5ACAF"
           ],
           "width": 3
          },
          "size": [
           23
          ],
          "sizemode": "area",
          "sizeref": 0.0112
         },
         "mode": "markers",
         "name": "A.J. Brown",
         "text": [
          "Player: A.J. Brown<br>Receptions: 88<br>Yards: 1496<br>20+ Yd Catches: 23<br>TDs: 11"
         ],
         "type": "scatter",
         "x": [
          88
         ],
         "y": [
          1496
         ]
        },
        {
         "marker": {
          "color": [
           "#FB4F14"
          ],
          "line": {
           "color": [
            "#000000"
           ],
           "width": 3
          },
          "size": [
           13
          ],
          "sizemode": "area",
          "sizeref": 0.0112
         },
         "mode": "markers",
         "name": "Ja Marr Chase",
         "text": [
          "Player: Ja Marr Chase<br>Receptions: 87<br>Yards: 1046<br>20+ Yd Catches: 13<br>TDs: 9"
         ],
         "type": "scatter",
         "x": [
          87
         ],
         "y": [
          1046
         ]
        },
        {
         "marker": {
          "color": [
           "#4F2683"
          ],
          "line": {
           "color": [
            "#FFC62F"
           ],
           "width": 3
          },
          "size": [
           5
          ],
          "sizemode": "area",
          "sizeref": 0.0112
         },
         "mode": "markers",
         "name": "T.J. Hockenson",
         "text": [
          "Player: T.J. Hockenson<br>Receptions: 86<br>Yards: 914<br>20+ Yd Catches: 5<br>TDs: 6"
         ],
         "type": "scatter",
         "x": [
          86
         ],
         "y": [
          914
         ]
        },
        {
         "marker": {
          "color": [
           "#FFB612"
          ],
          "line": {
           "color": [
            "#101820"
           ],
           "width": 3
          },
          "size": [
           7
          ],
          "sizemode": "area",
          "sizeref": 0.0112
         },
         "mode": "markers",
         "name": "Diontae Johnson",
         "text": [
          "Player: Diontae Johnson<br>Receptions: 86<br>Yards: 882<br>20+ Yd Catches: 7<br>TDs: 0"
         ],
         "type": "scatter",
         "x": [
          86
         ],
         "y": [
          882
         ]
        },
        {
         "marker": {
          "color": [
           "#AA0000"
          ],
          "line": {
           "color": [
            "#B3995D"
           ],
           "width": 3
          },
          "size": [
           8
          ],
          "sizemode": "area",
          "sizeref": 0.0112
         },
         "mode": "markers",
         "name": "Christian McCaffrey",
         "text": [
          "Player: Christian McCaffrey<br>Receptions: 85<br>Yards: 741<br>20+ Yd Catches: 8<br>TDs: 5"
         ],
         "type": "scatter",
         "x": [
          85
         ],
         "y": [
          741
         ]
        },
        {
         "marker": {
          "color": [
           "#101820"
          ],
          "line": {
           "color": [
            "#D7A22A"
           ],
           "width": 3
          },
          "size": [
           18
          ],
          "sizemode": "area",
          "sizeref": 0.0112
         },
         "mode": "markers",
         "name": "Christian Kirk",
         "text": [
          "Player: Christian Kirk<br>Receptions: 84<br>Yards: 1108<br>20+ Yd Catches: 18<br>TDs: 8"
         ],
         "type": "scatter",
         "x": [
          84
         ],
         "y": [
          1108
         ]
        },
        {
         "marker": {
          "color": [
           "#002244"
          ],
          "line": {
           "color": [
            "#69BE28"
           ],
           "width": 3
          },
          "size": [
           14
          ],
          "sizemode": "area",
          "sizeref": 0.0112
         },
         "mode": "markers",
         "name": "Tyler Lockett",
         "text": [
          "Player: Tyler Lockett<br>Receptions: 84<br>Yards: 1033<br>20+ Yd Catches: 14<br>TDs: 9"
         ],
         "type": "scatter",
         "x": [
          84
         ],
         "y": [
          1033
         ]
        },
        {
         "marker": {
          "color": [
           "#125740"
          ],
          "line": {
           "color": [
            "#000000"
           ],
           "width": 3
          },
          "size": [
           13
          ],
          "sizemode": "area",
          "sizeref": 0.0112
         },
         "mode": "markers",
         "name": "Garrett Wilson",
         "text": [
          "Player: Garrett Wilson<br>Receptions: 83<br>Yards: 1103<br>20+ Yd Catches: 13<br>TDs: 4"
         ],
         "type": "scatter",
         "x": [
          83
         ],
         "y": [
          1103
         ]
        },
        {
         "marker": {
          "color": [
           "#101820"
          ],
          "line": {
           "color": [
            "#D7A22A"
           ],
           "width": 3
          },
          "size": [
           7
          ],
          "sizemode": "area",
          "sizeref": 0.0112
         },
         "mode": "markers",
         "name": "Zay Jones",
         "text": [
          "Player: Zay Jones<br>Receptions: 82<br>Yards: 823<br>20+ Yd Catches: 7<br>TDs: 5"
         ],
         "type": "scatter",
         "x": [
          82
         ],
         "y": [
          823
         ]
        },
        {
         "marker": {
          "color": [
           "#AA0000"
          ],
          "line": {
           "color": [
            "#B3995D"
           ],
           "width": 3
          },
          "size": [
           17
          ],
          "sizemode": "area",
          "sizeref": 0.0112
         },
         "mode": "markers",
         "name": "Brandon Aiyuk",
         "text": [
          "Player: Brandon Aiyuk<br>Receptions: 78<br>Yards: 1015<br>20+ Yd Catches: 17<br>TDs: 8"
         ],
         "type": "scatter",
         "x": [
          78
         ],
         "y": [
          1015
         ]
        },
        {
         "marker": {
          "color": [
           "#311D00"
          ],
          "line": {
           "color": [
            "#FF3C00"
           ],
           "width": 3
          },
          "size": [
           18
          ],
          "sizemode": "area",
          "sizeref": 0.0112
         },
         "mode": "markers",
         "name": "Amari Cooper",
         "text": [
          "Player: Amari Cooper<br>Receptions: 78<br>Yards: 1160<br>20+ Yd Catches: 18<br>TDs: 9"
         ],
         "type": "scatter",
         "x": [
          78
         ],
         "y": [
          1160
         ]
        },
        {
         "marker": {
          "color": [
           "#E31837"
          ],
          "line": {
           "color": [
            "#FFB81C"
           ],
           "width": 3
          },
          "size": [
           9
          ],
          "sizemode": "area",
          "sizeref": 0.0112
         },
         "mode": "markers",
         "name": "JuJu Smith-Schuster",
         "text": [
          "Player: JuJu Smith-Schuster<br>Receptions: 78<br>Yards: 933<br>20+ Yd Catches: 9<br>TDs: 3"
         ],
         "type": "scatter",
         "x": [
          78
         ],
         "y": [
          933
         ]
        },
        {
         "marker": {
          "color": [
           "#D50A0A"
          ],
          "line": {
           "color": [
            "#FF7900"
           ],
           "width": 3
          },
          "size": [
           19
          ],
          "sizemode": "area",
          "sizeref": 0.0112
         },
         "mode": "markers",
         "name": "Mike Evans",
         "text": [
          "Player: Mike Evans<br>Receptions: 77<br>Yards: 1124<br>20+ Yd Catches: 19<br>TDs: 6"
         ],
         "type": "scatter",
         "x": [
          77
         ],
         "y": [
          1124
         ]
        }
       ],
       "layout": {
        "font": {
         "family": "Arial",
         "size": 14
        },
        "legend": {
         "itemsizing": "constant"
        },
        "plot_bgcolor": "white",
        "template": {
         "data": {
          "bar": [
           {
            "error_x": {
             "color": "#2a3f5f"
            },
            "error_y": {
             "color": "#2a3f5f"
            },
            "marker": {
             "line": {
              "color": "#E5ECF6",
              "width": 0.5
             }
            },
            "type": "bar"
           }
          ],
          "barpolar": [
           {
            "marker": {
             "line": {
              "color": "#E5ECF6",
              "width": 0.5
             }
            },
            "type": "barpolar"
           }
          ],
          "carpet": [
           {
            "aaxis": {
             "endlinecolor": "#2a3f5f",
             "gridcolor": "white",
             "linecolor": "white",
             "minorgridcolor": "white",
             "startlinecolor": "#2a3f5f"
            },
            "baxis": {
             "endlinecolor": "#2a3f5f",
             "gridcolor": "white",
             "linecolor": "white",
             "minorgridcolor": "white",
             "startlinecolor": "#2a3f5f"
            },
            "type": "carpet"
           }
          ],
          "choropleth": [
           {
            "colorbar": {
             "outlinewidth": 0,
             "ticks": ""
            },
            "type": "choropleth"
           }
          ],
          "contour": [
           {
            "colorbar": {
             "outlinewidth": 0,
             "ticks": ""
            },
            "colorscale": [
             [
              0,
              "#0d0887"
             ],
             [
              0.1111111111111111,
              "#46039f"
             ],
             [
              0.2222222222222222,
              "#7201a8"
             ],
             [
              0.3333333333333333,
              "#9c179e"
             ],
             [
              0.4444444444444444,
              "#bd3786"
             ],
             [
              0.5555555555555556,
              "#d8576b"
             ],
             [
              0.6666666666666666,
              "#ed7953"
             ],
             [
              0.7777777777777778,
              "#fb9f3a"
             ],
             [
              0.8888888888888888,
              "#fdca26"
             ],
             [
              1,
              "#f0f921"
             ]
            ],
            "type": "contour"
           }
          ],
          "contourcarpet": [
           {
            "colorbar": {
             "outlinewidth": 0,
             "ticks": ""
            },
            "type": "contourcarpet"
           }
          ],
          "heatmap": [
           {
            "colorbar": {
             "outlinewidth": 0,
             "ticks": ""
            },
            "colorscale": [
             [
              0,
              "#0d0887"
             ],
             [
              0.1111111111111111,
              "#46039f"
             ],
             [
              0.2222222222222222,
              "#7201a8"
             ],
             [
              0.3333333333333333,
              "#9c179e"
             ],
             [
              0.4444444444444444,
              "#bd3786"
             ],
             [
              0.5555555555555556,
              "#d8576b"
             ],
             [
              0.6666666666666666,
              "#ed7953"
             ],
             [
              0.7777777777777778,
              "#fb9f3a"
             ],
             [
              0.8888888888888888,
              "#fdca26"
             ],
             [
              1,
              "#f0f921"
             ]
            ],
            "type": "heatmap"
           }
          ],
          "heatmapgl": [
           {
            "colorbar": {
             "outlinewidth": 0,
             "ticks": ""
            },
            "colorscale": [
             [
              0,
              "#0d0887"
             ],
             [
              0.1111111111111111,
              "#46039f"
             ],
             [
              0.2222222222222222,
              "#7201a8"
             ],
             [
              0.3333333333333333,
              "#9c179e"
             ],
             [
              0.4444444444444444,
              "#bd3786"
             ],
             [
              0.5555555555555556,
              "#d8576b"
             ],
             [
              0.6666666666666666,
              "#ed7953"
             ],
             [
              0.7777777777777778,
              "#fb9f3a"
             ],
             [
              0.8888888888888888,
              "#fdca26"
             ],
             [
              1,
              "#f0f921"
             ]
            ],
            "type": "heatmapgl"
           }
          ],
          "histogram": [
           {
            "marker": {
             "colorbar": {
              "outlinewidth": 0,
              "ticks": ""
             }
            },
            "type": "histogram"
           }
          ],
          "histogram2d": [
           {
            "colorbar": {
             "outlinewidth": 0,
             "ticks": ""
            },
            "colorscale": [
             [
              0,
              "#0d0887"
             ],
             [
              0.1111111111111111,
              "#46039f"
             ],
             [
              0.2222222222222222,
              "#7201a8"
             ],
             [
              0.3333333333333333,
              "#9c179e"
             ],
             [
              0.4444444444444444,
              "#bd3786"
             ],
             [
              0.5555555555555556,
              "#d8576b"
             ],
             [
              0.6666666666666666,
              "#ed7953"
             ],
             [
              0.7777777777777778,
              "#fb9f3a"
             ],
             [
              0.8888888888888888,
              "#fdca26"
             ],
             [
              1,
              "#f0f921"
             ]
            ],
            "type": "histogram2d"
           }
          ],
          "histogram2dcontour": [
           {
            "colorbar": {
             "outlinewidth": 0,
             "ticks": ""
            },
            "colorscale": [
             [
              0,
              "#0d0887"
             ],
             [
              0.1111111111111111,
              "#46039f"
             ],
             [
              0.2222222222222222,
              "#7201a8"
             ],
             [
              0.3333333333333333,
              "#9c179e"
             ],
             [
              0.4444444444444444,
              "#bd3786"
             ],
             [
              0.5555555555555556,
              "#d8576b"
             ],
             [
              0.6666666666666666,
              "#ed7953"
             ],
             [
              0.7777777777777778,
              "#fb9f3a"
             ],
             [
              0.8888888888888888,
              "#fdca26"
             ],
             [
              1,
              "#f0f921"
             ]
            ],
            "type": "histogram2dcontour"
           }
          ],
          "mesh3d": [
           {
            "colorbar": {
             "outlinewidth": 0,
             "ticks": ""
            },
            "type": "mesh3d"
           }
          ],
          "parcoords": [
           {
            "line": {
             "colorbar": {
              "outlinewidth": 0,
              "ticks": ""
             }
            },
            "type": "parcoords"
           }
          ],
          "pie": [
           {
            "automargin": true,
            "type": "pie"
           }
          ],
          "scatter": [
           {
            "marker": {
             "colorbar": {
              "outlinewidth": 0,
              "ticks": ""
             }
            },
            "type": "scatter"
           }
          ],
          "scatter3d": [
           {
            "line": {
             "colorbar": {
              "outlinewidth": 0,
              "ticks": ""
             }
            },
            "marker": {
             "colorbar": {
              "outlinewidth": 0,
              "ticks": ""
             }
            },
            "type": "scatter3d"
           }
          ],
          "scattercarpet": [
           {
            "marker": {
             "colorbar": {
              "outlinewidth": 0,
              "ticks": ""
             }
            },
            "type": "scattercarpet"
           }
          ],
          "scattergeo": [
           {
            "marker": {
             "colorbar": {
              "outlinewidth": 0,
              "ticks": ""
             }
            },
            "type": "scattergeo"
           }
          ],
          "scattergl": [
           {
            "marker": {
             "colorbar": {
              "outlinewidth": 0,
              "ticks": ""
             }
            },
            "type": "scattergl"
           }
          ],
          "scattermapbox": [
           {
            "marker": {
             "colorbar": {
              "outlinewidth": 0,
              "ticks": ""
             }
            },
            "type": "scattermapbox"
           }
          ],
          "scatterpolar": [
           {
            "marker": {
             "colorbar": {
              "outlinewidth": 0,
              "ticks": ""
             }
            },
            "type": "scatterpolar"
           }
          ],
          "scatterpolargl": [
           {
            "marker": {
             "colorbar": {
              "outlinewidth": 0,
              "ticks": ""
             }
            },
            "type": "scatterpolargl"
           }
          ],
          "scatterternary": [
           {
            "marker": {
             "colorbar": {
              "outlinewidth": 0,
              "ticks": ""
             }
            },
            "type": "scatterternary"
           }
          ],
          "surface": [
           {
            "colorbar": {
             "outlinewidth": 0,
             "ticks": ""
            },
            "colorscale": [
             [
              0,
              "#0d0887"
             ],
             [
              0.1111111111111111,
              "#46039f"
             ],
             [
              0.2222222222222222,
              "#7201a8"
             ],
             [
              0.3333333333333333,
              "#9c179e"
             ],
             [
              0.4444444444444444,
              "#bd3786"
             ],
             [
              0.5555555555555556,
              "#d8576b"
             ],
             [
              0.6666666666666666,
              "#ed7953"
             ],
             [
              0.7777777777777778,
              "#fb9f3a"
             ],
             [
              0.8888888888888888,
              "#fdca26"
             ],
             [
              1,
              "#f0f921"
             ]
            ],
            "type": "surface"
           }
          ],
          "table": [
           {
            "cells": {
             "fill": {
              "color": "#EBF0F8"
             },
             "line": {
              "color": "white"
             }
            },
            "header": {
             "fill": {
              "color": "#C8D4E3"
             },
             "line": {
              "color": "white"
             }
            },
            "type": "table"
           }
          ]
         },
         "layout": {
          "annotationdefaults": {
           "arrowcolor": "#2a3f5f",
           "arrowhead": 0,
           "arrowwidth": 1
          },
          "autotypenumbers": "strict",
          "coloraxis": {
           "colorbar": {
            "outlinewidth": 0,
            "ticks": ""
           }
          },
          "colorscale": {
           "diverging": [
            [
             0,
             "#8e0152"
            ],
            [
             0.1,
             "#c51b7d"
            ],
            [
             0.2,
             "#de77ae"
            ],
            [
             0.3,
             "#f1b6da"
            ],
            [
             0.4,
             "#fde0ef"
            ],
            [
             0.5,
             "#f7f7f7"
            ],
            [
             0.6,
             "#e6f5d0"
            ],
            [
             0.7,
             "#b8e186"
            ],
            [
             0.8,
             "#7fbc41"
            ],
            [
             0.9,
             "#4d9221"
            ],
            [
             1,
             "#276419"
            ]
           ],
           "sequential": [
            [
             0,
             "#0d0887"
            ],
            [
             0.1111111111111111,
             "#46039f"
            ],
            [
             0.2222222222222222,
             "#7201a8"
            ],
            [
             0.3333333333333333,
             "#9c179e"
            ],
            [
             0.4444444444444444,
             "#bd3786"
            ],
            [
             0.5555555555555556,
             "#d8576b"
            ],
            [
             0.6666666666666666,
             "#ed7953"
            ],
            [
             0.7777777777777778,
             "#fb9f3a"
            ],
            [
             0.8888888888888888,
             "#fdca26"
            ],
            [
             1,
             "#f0f921"
            ]
           ],
           "sequentialminus": [
            [
             0,
             "#0d0887"
            ],
            [
             0.1111111111111111,
             "#46039f"
            ],
            [
             0.2222222222222222,
             "#7201a8"
            ],
            [
             0.3333333333333333,
             "#9c179e"
            ],
            [
             0.4444444444444444,
             "#bd3786"
            ],
            [
             0.5555555555555556,
             "#d8576b"
            ],
            [
             0.6666666666666666,
             "#ed7953"
            ],
            [
             0.7777777777777778,
             "#fb9f3a"
            ],
            [
             0.8888888888888888,
             "#fdca26"
            ],
            [
             1,
             "#f0f921"
            ]
           ]
          },
          "colorway": [
           "#636efa",
           "#EF553B",
           "#00cc96",
           "#ab63fa",
           "#FFA15A",
           "#19d3f3",
           "#FF6692",
           "#B6E880",
           "#FF97FF",
           "#FECB52"
          ],
          "font": {
           "color": "#2a3f5f"
          },
          "geo": {
           "bgcolor": "white",
           "lakecolor": "white",
           "landcolor": "#E5ECF6",
           "showlakes": true,
           "showland": true,
           "subunitcolor": "white"
          },
          "hoverlabel": {
           "align": "left"
          },
          "hovermode": "closest",
          "mapbox": {
           "style": "light"
          },
          "paper_bgcolor": "white",
          "plot_bgcolor": "#E5ECF6",
          "polar": {
           "angularaxis": {
            "gridcolor": "white",
            "linecolor": "white",
            "ticks": ""
           },
           "bgcolor": "#E5ECF6",
           "radialaxis": {
            "gridcolor": "white",
            "linecolor": "white",
            "ticks": ""
           }
          },
          "scene": {
           "xaxis": {
            "backgroundcolor": "#E5ECF6",
            "gridcolor": "white",
            "gridwidth": 2,
            "linecolor": "white",
            "showbackground": true,
            "ticks": "",
            "zerolinecolor": "white"
           },
           "yaxis": {
            "backgroundcolor": "#E5ECF6",
            "gridcolor": "white",
            "gridwidth": 2,
            "linecolor": "white",
            "showbackground": true,
            "ticks": "",
            "zerolinecolor": "white"
           },
           "zaxis": {
            "backgroundcolor": "#E5ECF6",
            "gridcolor": "white",
            "gridwidth": 2,
            "linecolor": "white",
            "showbackground": true,
            "ticks": "",
            "zerolinecolor": "white"
           }
          },
          "shapedefaults": {
           "line": {
            "color": "#2a3f5f"
           }
          },
          "ternary": {
           "aaxis": {
            "gridcolor": "white",
            "linecolor": "white",
            "ticks": ""
           },
           "baxis": {
            "gridcolor": "white",
            "linecolor": "white",
            "ticks": ""
           },
           "bgcolor": "#E5ECF6",
           "caxis": {
            "gridcolor": "white",
            "linecolor": "white",
            "ticks": ""
           }
          },
          "title": {
           "x": 0.05
          },
          "xaxis": {
           "automargin": true,
           "gridcolor": "white",
           "linecolor": "white",
           "ticks": "",
           "title": {
            "standoff": 15
           },
           "zerolinecolor": "white",
           "zerolinewidth": 2
          },
          "yaxis": {
           "automargin": true,
           "gridcolor": "white",
           "linecolor": "white",
           "ticks": "",
           "title": {
            "standoff": 15
           },
           "zerolinecolor": "white",
           "zerolinewidth": 2
          }
         }
        },
        "title": {
         "font": {
          "size": 22
         },
         "text": "<b>2022 NFL WR Performance: Rec x Yards x 20+ Yard Catches</b>",
         "x": 0.5,
         "xanchor": "center",
         "yanchor": "top"
        },
        "xaxis": {
         "linecolor": "black",
         "mirror": false,
         "showline": true,
         "ticks": "outside",
         "title": {
          "text": "<b>Receptions</b>"
         }
        },
        "yaxis": {
         "linecolor": "black",
         "mirror": false,
         "showline": true,
         "ticks": "outside",
         "title": {
          "text": "<b>Total Yards</b>"
         }
        }
       }
      },
      "text/html": [
       "<div>                            <div id=\"7529d015-34ba-46d6-828c-347ae907fa9e\" class=\"plotly-graph-div\" style=\"height:525px; width:100%;\"></div>            <script type=\"text/javascript\">                require([\"plotly\"], function(Plotly) {                    window.PLOTLYENV=window.PLOTLYENV || {};                                    if (document.getElementById(\"7529d015-34ba-46d6-828c-347ae907fa9e\")) {                    Plotly.newPlot(                        \"7529d015-34ba-46d6-828c-347ae907fa9e\",                        [{\"marker\": {\"color\": [\"#4F2683\"], \"line\": {\"color\": [\"#FFC62F\"], \"width\": 3}, \"size\": [28], \"sizemode\": \"area\", \"sizeref\": 0.0112}, \"mode\": \"markers\", \"name\": \"Justin Jefferson\", \"text\": [\"Player: Justin Jefferson<br>Receptions: 128<br>Yards: 1809<br>20+ Yd Catches: 28<br>TDs: 8\"], \"type\": \"scatter\", \"x\": [128], \"y\": [1809]}, {\"marker\": {\"color\": [\"#008E97\"], \"line\": {\"color\": [\"#FC4C02\"], \"width\": 3}, \"size\": [25], \"sizemode\": \"area\", \"sizeref\": 0.0112}, \"mode\": \"markers\", \"name\": \"Tyreek Hill\", \"text\": [\"Player: Tyreek Hill<br>Receptions: 119<br>Yards: 1710<br>20+ Yd Catches: 25<br>TDs: 7\"], \"type\": \"scatter\", \"x\": [119], \"y\": [1710]}, {\"marker\": {\"color\": [\"#E31837\"], \"line\": {\"color\": [\"#FFB81C\"], \"width\": 3}, \"size\": [19], \"sizemode\": \"area\", \"sizeref\": 0.0112}, \"mode\": \"markers\", \"name\": \"Travis Kelce\", \"text\": [\"Player: Travis Kelce<br>Receptions: 110<br>Yards: 1338<br>20+ Yd Catches: 19<br>TDs: 12\"], \"type\": \"scatter\", \"x\": [110], \"y\": [1338]}, {\"marker\": {\"color\": [\"#00338D\"], \"line\": {\"color\": [\"#C60C30\"], \"width\": 3}, \"size\": [17], \"sizemode\": \"area\", \"sizeref\": 0.0112}, \"mode\": \"markers\", \"name\": \"Stefon Diggs\", \"text\": [\"Player: Stefon Diggs<br>Receptions: 108<br>Yards: 1429<br>20+ Yd Catches: 17<br>TDs: 11\"], \"type\": \"scatter\", \"x\": [108], \"y\": [1429]}, {\"marker\": {\"color\": [\"#0080C6\"], \"line\": {\"color\": [\"#FFC20E\"], \"width\": 3}, \"size\": [4], \"sizemode\": \"area\", \"sizeref\": 0.0112}, \"mode\": \"markers\", \"name\": \"Austin Ekeler\", \"text\": [\"Player: Austin Ekeler<br>Receptions: 107<br>Yards: 722<br>20+ Yd Catches: 4<br>TDs: 5\"], \"type\": \"scatter\", \"x\": [107], \"y\": [722]}, {\"marker\": {\"color\": [\"#003594\"], \"line\": {\"color\": [\"#041E42\"], \"width\": 3}, \"size\": [24], \"sizemode\": \"area\", \"sizeref\": 0.0112}, \"mode\": \"markers\", \"name\": \"CeeDee Lamb\", \"text\": [\"Player: CeeDee Lamb<br>Receptions: 107<br>Yards: 1359<br>20+ Yd Catches: 24<br>TDs: 9\"], \"type\": \"scatter\", \"x\": [107], \"y\": [1359]}, {\"marker\": {\"color\": [\"#0076B6\"], \"line\": {\"color\": [\"#B0B7BC\"], \"width\": 3}, \"size\": [11], \"sizemode\": \"area\", \"sizeref\": 0.0112}, \"mode\": \"markers\", \"name\": \"Amon-Ra St. Brown\", \"text\": [\"Player: Amon-Ra St. Brown<br>Receptions: 106<br>Yards: 1161<br>20+ Yd Catches: 11<br>TDs: 6\"], \"type\": \"scatter\", \"x\": [106], \"y\": [1161]}, {\"marker\": {\"color\": [\"#D50A0A\"], \"line\": {\"color\": [\"#FF7900\"], \"width\": 3}, \"size\": [10], \"sizemode\": \"area\", \"sizeref\": 0.0112}, \"mode\": \"markers\", \"name\": \"Chris Godwin\", \"text\": [\"Player: Chris Godwin<br>Receptions: 104<br>Yards: 1023<br>20+ Yd Catches: 10<br>TDs: 3\"], \"type\": \"scatter\", \"x\": [104], \"y\": [1023]}, {\"marker\": {\"color\": [\"#000000\"], \"line\": {\"color\": [\"#A5ACAF\"], \"width\": 3}, \"size\": [24], \"sizemode\": \"area\", \"sizeref\": 0.0112}, \"mode\": \"markers\", \"name\": \"Davante Adams\", \"text\": [\"Player: Davante Adams<br>Receptions: 100<br>Yards: 1516<br>20+ Yd Catches: 24<br>TDs: 14\"], \"type\": \"scatter\", \"x\": [100], \"y\": [1516]}, {\"marker\": {\"color\": [\"#002C5F\"], \"line\": {\"color\": [\"#A2AAAD\"], \"width\": 3}, \"size\": [8], \"sizemode\": \"area\", \"sizeref\": 0.0112}, \"mode\": \"markers\", \"name\": \"Michael Pittman\", \"text\": [\"Player: Michael Pittman<br>Receptions: 99<br>Yards: 925<br>20+ Yd Catches: 8<br>TDs: 4\"], \"type\": \"scatter\", \"x\": [99], \"y\": [925]}, {\"marker\": {\"color\": [\"#004C54\"], \"line\": {\"color\": [\"#A5ACAF\"], \"width\": 3}, \"size\": [18], \"sizemode\": \"area\", \"sizeref\": 0.0112}, \"mode\": \"markers\", \"name\": \"DeVonta Smith\", \"text\": [\"Player: DeVonta Smith<br>Receptions: 95<br>Yards: 1196<br>20+ Yd Catches: 18<br>TDs: 7\"], \"type\": \"scatter\", \"x\": [95], \"y\": [1196]}, {\"marker\": {\"color\": [\"#002244\"], \"line\": {\"color\": [\"#69BE28\"], \"width\": 3}, \"size\": [11], \"sizemode\": \"area\", \"sizeref\": 0.0112}, \"mode\": \"markers\", \"name\": \"DK Metcalf\", \"text\": [\"Player: DK Metcalf<br>Receptions: 90<br>Yards: 1048<br>20+ Yd Catches: 11<br>TDs: 6\"], \"type\": \"scatter\", \"x\": [90], \"y\": [1048]}, {\"marker\": {\"color\": [\"#004C54\"], \"line\": {\"color\": [\"#A5ACAF\"], \"width\": 3}, \"size\": [23], \"sizemode\": \"area\", \"sizeref\": 0.0112}, \"mode\": \"markers\", \"name\": \"A.J. Brown\", \"text\": [\"Player: A.J. Brown<br>Receptions: 88<br>Yards: 1496<br>20+ Yd Catches: 23<br>TDs: 11\"], \"type\": \"scatter\", \"x\": [88], \"y\": [1496]}, {\"marker\": {\"color\": [\"#FB4F14\"], \"line\": {\"color\": [\"#000000\"], \"width\": 3}, \"size\": [13], \"sizemode\": \"area\", \"sizeref\": 0.0112}, \"mode\": \"markers\", \"name\": \"Ja Marr Chase\", \"text\": [\"Player: Ja Marr Chase<br>Receptions: 87<br>Yards: 1046<br>20+ Yd Catches: 13<br>TDs: 9\"], \"type\": \"scatter\", \"x\": [87], \"y\": [1046]}, {\"marker\": {\"color\": [\"#4F2683\"], \"line\": {\"color\": [\"#FFC62F\"], \"width\": 3}, \"size\": [5], \"sizemode\": \"area\", \"sizeref\": 0.0112}, \"mode\": \"markers\", \"name\": \"T.J. Hockenson\", \"text\": [\"Player: T.J. Hockenson<br>Receptions: 86<br>Yards: 914<br>20+ Yd Catches: 5<br>TDs: 6\"], \"type\": \"scatter\", \"x\": [86], \"y\": [914]}, {\"marker\": {\"color\": [\"#FFB612\"], \"line\": {\"color\": [\"#101820\"], \"width\": 3}, \"size\": [7], \"sizemode\": \"area\", \"sizeref\": 0.0112}, \"mode\": \"markers\", \"name\": \"Diontae Johnson\", \"text\": [\"Player: Diontae Johnson<br>Receptions: 86<br>Yards: 882<br>20+ Yd Catches: 7<br>TDs: 0\"], \"type\": \"scatter\", \"x\": [86], \"y\": [882]}, {\"marker\": {\"color\": [\"#AA0000\"], \"line\": {\"color\": [\"#B3995D\"], \"width\": 3}, \"size\": [8], \"sizemode\": \"area\", \"sizeref\": 0.0112}, \"mode\": \"markers\", \"name\": \"Christian McCaffrey\", \"text\": [\"Player: Christian McCaffrey<br>Receptions: 85<br>Yards: 741<br>20+ Yd Catches: 8<br>TDs: 5\"], \"type\": \"scatter\", \"x\": [85], \"y\": [741]}, {\"marker\": {\"color\": [\"#101820\"], \"line\": {\"color\": [\"#D7A22A\"], \"width\": 3}, \"size\": [18], \"sizemode\": \"area\", \"sizeref\": 0.0112}, \"mode\": \"markers\", \"name\": \"Christian Kirk\", \"text\": [\"Player: Christian Kirk<br>Receptions: 84<br>Yards: 1108<br>20+ Yd Catches: 18<br>TDs: 8\"], \"type\": \"scatter\", \"x\": [84], \"y\": [1108]}, {\"marker\": {\"color\": [\"#002244\"], \"line\": {\"color\": [\"#69BE28\"], \"width\": 3}, \"size\": [14], \"sizemode\": \"area\", \"sizeref\": 0.0112}, \"mode\": \"markers\", \"name\": \"Tyler Lockett\", \"text\": [\"Player: Tyler Lockett<br>Receptions: 84<br>Yards: 1033<br>20+ Yd Catches: 14<br>TDs: 9\"], \"type\": \"scatter\", \"x\": [84], \"y\": [1033]}, {\"marker\": {\"color\": [\"#125740\"], \"line\": {\"color\": [\"#000000\"], \"width\": 3}, \"size\": [13], \"sizemode\": \"area\", \"sizeref\": 0.0112}, \"mode\": \"markers\", \"name\": \"Garrett Wilson\", \"text\": [\"Player: Garrett Wilson<br>Receptions: 83<br>Yards: 1103<br>20+ Yd Catches: 13<br>TDs: 4\"], \"type\": \"scatter\", \"x\": [83], \"y\": [1103]}, {\"marker\": {\"color\": [\"#101820\"], \"line\": {\"color\": [\"#D7A22A\"], \"width\": 3}, \"size\": [7], \"sizemode\": \"area\", \"sizeref\": 0.0112}, \"mode\": \"markers\", \"name\": \"Zay Jones\", \"text\": [\"Player: Zay Jones<br>Receptions: 82<br>Yards: 823<br>20+ Yd Catches: 7<br>TDs: 5\"], \"type\": \"scatter\", \"x\": [82], \"y\": [823]}, {\"marker\": {\"color\": [\"#AA0000\"], \"line\": {\"color\": [\"#B3995D\"], \"width\": 3}, \"size\": [17], \"sizemode\": \"area\", \"sizeref\": 0.0112}, \"mode\": \"markers\", \"name\": \"Brandon Aiyuk\", \"text\": [\"Player: Brandon Aiyuk<br>Receptions: 78<br>Yards: 1015<br>20+ Yd Catches: 17<br>TDs: 8\"], \"type\": \"scatter\", \"x\": [78], \"y\": [1015]}, {\"marker\": {\"color\": [\"#311D00\"], \"line\": {\"color\": [\"#FF3C00\"], \"width\": 3}, \"size\": [18], \"sizemode\": \"area\", \"sizeref\": 0.0112}, \"mode\": \"markers\", \"name\": \"Amari Cooper\", \"text\": [\"Player: Amari Cooper<br>Receptions: 78<br>Yards: 1160<br>20+ Yd Catches: 18<br>TDs: 9\"], \"type\": \"scatter\", \"x\": [78], \"y\": [1160]}, {\"marker\": {\"color\": [\"#E31837\"], \"line\": {\"color\": [\"#FFB81C\"], \"width\": 3}, \"size\": [9], \"sizemode\": \"area\", \"sizeref\": 0.0112}, \"mode\": \"markers\", \"name\": \"JuJu Smith-Schuster\", \"text\": [\"Player: JuJu Smith-Schuster<br>Receptions: 78<br>Yards: 933<br>20+ Yd Catches: 9<br>TDs: 3\"], \"type\": \"scatter\", \"x\": [78], \"y\": [933]}, {\"marker\": {\"color\": [\"#D50A0A\"], \"line\": {\"color\": [\"#FF7900\"], \"width\": 3}, \"size\": [19], \"sizemode\": \"area\", \"sizeref\": 0.0112}, \"mode\": \"markers\", \"name\": \"Mike Evans\", \"text\": [\"Player: Mike Evans<br>Receptions: 77<br>Yards: 1124<br>20+ Yd Catches: 19<br>TDs: 6\"], \"type\": \"scatter\", \"x\": [77], \"y\": [1124]}],                        {\"font\": {\"family\": \"Arial\", \"size\": 14}, \"legend\": {\"itemsizing\": \"constant\"}, \"plot_bgcolor\": \"white\", \"template\": {\"data\": {\"bar\": [{\"error_x\": {\"color\": \"#2a3f5f\"}, \"error_y\": {\"color\": \"#2a3f5f\"}, \"marker\": {\"line\": {\"color\": \"#E5ECF6\", \"width\": 0.5}}, \"type\": \"bar\"}], \"barpolar\": [{\"marker\": {\"line\": {\"color\": \"#E5ECF6\", \"width\": 0.5}}, \"type\": \"barpolar\"}], \"carpet\": [{\"aaxis\": {\"endlinecolor\": \"#2a3f5f\", \"gridcolor\": \"white\", \"linecolor\": \"white\", \"minorgridcolor\": \"white\", \"startlinecolor\": \"#2a3f5f\"}, \"baxis\": {\"endlinecolor\": \"#2a3f5f\", \"gridcolor\": \"white\", \"linecolor\": \"white\", \"minorgridcolor\": \"white\", \"startlinecolor\": \"#2a3f5f\"}, \"type\": \"carpet\"}], \"choropleth\": [{\"colorbar\": {\"outlinewidth\": 0, \"ticks\": \"\"}, \"type\": \"choropleth\"}], \"contour\": [{\"colorbar\": {\"outlinewidth\": 0, \"ticks\": \"\"}, \"colorscale\": [[0.0, \"#0d0887\"], [0.1111111111111111, \"#46039f\"], [0.2222222222222222, \"#7201a8\"], [0.3333333333333333, \"#9c179e\"], [0.4444444444444444, \"#bd3786\"], [0.5555555555555556, \"#d8576b\"], [0.6666666666666666, \"#ed7953\"], [0.7777777777777778, \"#fb9f3a\"], [0.8888888888888888, \"#fdca26\"], [1.0, \"#f0f921\"]], \"type\": \"contour\"}], \"contourcarpet\": [{\"colorbar\": {\"outlinewidth\": 0, \"ticks\": \"\"}, \"type\": \"contourcarpet\"}], \"heatmap\": [{\"colorbar\": {\"outlinewidth\": 0, \"ticks\": \"\"}, \"colorscale\": [[0.0, \"#0d0887\"], [0.1111111111111111, \"#46039f\"], [0.2222222222222222, \"#7201a8\"], [0.3333333333333333, \"#9c179e\"], [0.4444444444444444, \"#bd3786\"], [0.5555555555555556, \"#d8576b\"], [0.6666666666666666, \"#ed7953\"], [0.7777777777777778, \"#fb9f3a\"], [0.8888888888888888, \"#fdca26\"], [1.0, \"#f0f921\"]], \"type\": \"heatmap\"}], \"heatmapgl\": [{\"colorbar\": {\"outlinewidth\": 0, \"ticks\": \"\"}, \"colorscale\": [[0.0, \"#0d0887\"], [0.1111111111111111, \"#46039f\"], [0.2222222222222222, \"#7201a8\"], [0.3333333333333333, \"#9c179e\"], [0.4444444444444444, \"#bd3786\"], [0.5555555555555556, \"#d8576b\"], [0.6666666666666666, \"#ed7953\"], [0.7777777777777778, \"#fb9f3a\"], [0.8888888888888888, \"#fdca26\"], [1.0, \"#f0f921\"]], \"type\": \"heatmapgl\"}], \"histogram\": [{\"marker\": {\"colorbar\": {\"outlinewidth\": 0, \"ticks\": \"\"}}, \"type\": \"histogram\"}], \"histogram2d\": [{\"colorbar\": {\"outlinewidth\": 0, \"ticks\": \"\"}, \"colorscale\": [[0.0, \"#0d0887\"], [0.1111111111111111, \"#46039f\"], [0.2222222222222222, \"#7201a8\"], [0.3333333333333333, \"#9c179e\"], [0.4444444444444444, \"#bd3786\"], [0.5555555555555556, \"#d8576b\"], [0.6666666666666666, \"#ed7953\"], [0.7777777777777778, \"#fb9f3a\"], [0.8888888888888888, \"#fdca26\"], [1.0, \"#f0f921\"]], \"type\": \"histogram2d\"}], \"histogram2dcontour\": [{\"colorbar\": {\"outlinewidth\": 0, \"ticks\": \"\"}, \"colorscale\": [[0.0, \"#0d0887\"], [0.1111111111111111, \"#46039f\"], [0.2222222222222222, \"#7201a8\"], [0.3333333333333333, \"#9c179e\"], [0.4444444444444444, \"#bd3786\"], [0.5555555555555556, \"#d8576b\"], [0.6666666666666666, \"#ed7953\"], [0.7777777777777778, \"#fb9f3a\"], [0.8888888888888888, \"#fdca26\"], [1.0, \"#f0f921\"]], \"type\": \"histogram2dcontour\"}], \"mesh3d\": [{\"colorbar\": {\"outlinewidth\": 0, \"ticks\": \"\"}, \"type\": \"mesh3d\"}], \"parcoords\": [{\"line\": {\"colorbar\": {\"outlinewidth\": 0, \"ticks\": \"\"}}, \"type\": \"parcoords\"}], \"pie\": [{\"automargin\": true, \"type\": \"pie\"}], \"scatter\": [{\"marker\": {\"colorbar\": {\"outlinewidth\": 0, \"ticks\": \"\"}}, \"type\": \"scatter\"}], \"scatter3d\": [{\"line\": {\"colorbar\": {\"outlinewidth\": 0, \"ticks\": \"\"}}, \"marker\": {\"colorbar\": {\"outlinewidth\": 0, \"ticks\": \"\"}}, \"type\": \"scatter3d\"}], \"scattercarpet\": [{\"marker\": {\"colorbar\": {\"outlinewidth\": 0, \"ticks\": \"\"}}, \"type\": \"scattercarpet\"}], \"scattergeo\": [{\"marker\": {\"colorbar\": {\"outlinewidth\": 0, \"ticks\": \"\"}}, \"type\": \"scattergeo\"}], \"scattergl\": [{\"marker\": {\"colorbar\": {\"outlinewidth\": 0, \"ticks\": \"\"}}, \"type\": \"scattergl\"}], \"scattermapbox\": [{\"marker\": {\"colorbar\": {\"outlinewidth\": 0, \"ticks\": \"\"}}, \"type\": \"scattermapbox\"}], \"scatterpolar\": [{\"marker\": {\"colorbar\": {\"outlinewidth\": 0, \"ticks\": \"\"}}, \"type\": \"scatterpolar\"}], \"scatterpolargl\": [{\"marker\": {\"colorbar\": {\"outlinewidth\": 0, \"ticks\": \"\"}}, \"type\": \"scatterpolargl\"}], \"scatterternary\": [{\"marker\": {\"colorbar\": {\"outlinewidth\": 0, \"ticks\": \"\"}}, \"type\": \"scatterternary\"}], \"surface\": [{\"colorbar\": {\"outlinewidth\": 0, \"ticks\": \"\"}, \"colorscale\": [[0.0, \"#0d0887\"], [0.1111111111111111, \"#46039f\"], [0.2222222222222222, \"#7201a8\"], [0.3333333333333333, \"#9c179e\"], [0.4444444444444444, \"#bd3786\"], [0.5555555555555556, \"#d8576b\"], [0.6666666666666666, \"#ed7953\"], [0.7777777777777778, \"#fb9f3a\"], [0.8888888888888888, \"#fdca26\"], [1.0, \"#f0f921\"]], \"type\": \"surface\"}], \"table\": [{\"cells\": {\"fill\": {\"color\": \"#EBF0F8\"}, \"line\": {\"color\": \"white\"}}, \"header\": {\"fill\": {\"color\": \"#C8D4E3\"}, \"line\": {\"color\": \"white\"}}, \"type\": \"table\"}]}, \"layout\": {\"annotationdefaults\": {\"arrowcolor\": \"#2a3f5f\", \"arrowhead\": 0, \"arrowwidth\": 1}, \"autotypenumbers\": \"strict\", \"coloraxis\": {\"colorbar\": {\"outlinewidth\": 0, \"ticks\": \"\"}}, \"colorscale\": {\"diverging\": [[0, \"#8e0152\"], [0.1, \"#c51b7d\"], [0.2, \"#de77ae\"], [0.3, \"#f1b6da\"], [0.4, \"#fde0ef\"], [0.5, \"#f7f7f7\"], [0.6, \"#e6f5d0\"], [0.7, \"#b8e186\"], [0.8, \"#7fbc41\"], [0.9, \"#4d9221\"], [1, \"#276419\"]], \"sequential\": [[0.0, \"#0d0887\"], [0.1111111111111111, \"#46039f\"], [0.2222222222222222, \"#7201a8\"], [0.3333333333333333, \"#9c179e\"], [0.4444444444444444, \"#bd3786\"], [0.5555555555555556, \"#d8576b\"], [0.6666666666666666, \"#ed7953\"], [0.7777777777777778, \"#fb9f3a\"], [0.8888888888888888, \"#fdca26\"], [1.0, \"#f0f921\"]], \"sequentialminus\": [[0.0, \"#0d0887\"], [0.1111111111111111, \"#46039f\"], [0.2222222222222222, \"#7201a8\"], [0.3333333333333333, \"#9c179e\"], [0.4444444444444444, \"#bd3786\"], [0.5555555555555556, \"#d8576b\"], [0.6666666666666666, \"#ed7953\"], [0.7777777777777778, \"#fb9f3a\"], [0.8888888888888888, \"#fdca26\"], [1.0, \"#f0f921\"]]}, \"colorway\": [\"#636efa\", \"#EF553B\", \"#00cc96\", \"#ab63fa\", \"#FFA15A\", \"#19d3f3\", \"#FF6692\", \"#B6E880\", \"#FF97FF\", \"#FECB52\"], \"font\": {\"color\": \"#2a3f5f\"}, \"geo\": {\"bgcolor\": \"white\", \"lakecolor\": \"white\", \"landcolor\": \"#E5ECF6\", \"showlakes\": true, \"showland\": true, \"subunitcolor\": \"white\"}, \"hoverlabel\": {\"align\": \"left\"}, \"hovermode\": \"closest\", \"mapbox\": {\"style\": \"light\"}, \"paper_bgcolor\": \"white\", \"plot_bgcolor\": \"#E5ECF6\", \"polar\": {\"angularaxis\": {\"gridcolor\": \"white\", \"linecolor\": \"white\", \"ticks\": \"\"}, \"bgcolor\": \"#E5ECF6\", \"radialaxis\": {\"gridcolor\": \"white\", \"linecolor\": \"white\", \"ticks\": \"\"}}, \"scene\": {\"xaxis\": {\"backgroundcolor\": \"#E5ECF6\", \"gridcolor\": \"white\", \"gridwidth\": 2, \"linecolor\": \"white\", \"showbackground\": true, \"ticks\": \"\", \"zerolinecolor\": \"white\"}, \"yaxis\": {\"backgroundcolor\": \"#E5ECF6\", \"gridcolor\": \"white\", \"gridwidth\": 2, \"linecolor\": \"white\", \"showbackground\": true, \"ticks\": \"\", \"zerolinecolor\": \"white\"}, \"zaxis\": {\"backgroundcolor\": \"#E5ECF6\", \"gridcolor\": \"white\", \"gridwidth\": 2, \"linecolor\": \"white\", \"showbackground\": true, \"ticks\": \"\", \"zerolinecolor\": \"white\"}}, \"shapedefaults\": {\"line\": {\"color\": \"#2a3f5f\"}}, \"ternary\": {\"aaxis\": {\"gridcolor\": \"white\", \"linecolor\": \"white\", \"ticks\": \"\"}, \"baxis\": {\"gridcolor\": \"white\", \"linecolor\": \"white\", \"ticks\": \"\"}, \"bgcolor\": \"#E5ECF6\", \"caxis\": {\"gridcolor\": \"white\", \"linecolor\": \"white\", \"ticks\": \"\"}}, \"title\": {\"x\": 0.05}, \"xaxis\": {\"automargin\": true, \"gridcolor\": \"white\", \"linecolor\": \"white\", \"ticks\": \"\", \"title\": {\"standoff\": 15}, \"zerolinecolor\": \"white\", \"zerolinewidth\": 2}, \"yaxis\": {\"automargin\": true, \"gridcolor\": \"white\", \"linecolor\": \"white\", \"ticks\": \"\", \"title\": {\"standoff\": 15}, \"zerolinecolor\": \"white\", \"zerolinewidth\": 2}}}, \"title\": {\"font\": {\"size\": 22}, \"text\": \"<b>2022 NFL WR Performance: Rec x Yards x 20+ Yard Catches</b>\", \"x\": 0.5, \"xanchor\": \"center\", \"yanchor\": \"top\"}, \"xaxis\": {\"linecolor\": \"black\", \"mirror\": false, \"showline\": true, \"ticks\": \"outside\", \"title\": {\"text\": \"<b>Receptions</b>\"}}, \"yaxis\": {\"linecolor\": \"black\", \"mirror\": false, \"showline\": true, \"ticks\": \"outside\", \"title\": {\"text\": \"<b>Total Yards</b>\"}}},                        {\"responsive\": true}                    ).then(function(){\n",
       "                            \n",
       "var gd = document.getElementById('7529d015-34ba-46d6-828c-347ae907fa9e');\n",
       "var x = new MutationObserver(function (mutations, observer) {{\n",
       "        var display = window.getComputedStyle(gd).display;\n",
       "        if (!display || display === 'none') {{\n",
       "            console.log([gd, 'removed!']);\n",
       "            Plotly.purge(gd);\n",
       "            observer.disconnect();\n",
       "        }}\n",
       "}});\n",
       "\n",
       "// Listen for the removal of the full notebook cells\n",
       "var notebookContainer = gd.closest('#notebook-container');\n",
       "if (notebookContainer) {{\n",
       "    x.observe(notebookContainer, {childList: true});\n",
       "}}\n",
       "\n",
       "// Listen for the clearing of the current output cell\n",
       "var outputEl = gd.closest('.output');\n",
       "if (outputEl) {{\n",
       "    x.observe(outputEl, {childList: true});\n",
       "}}\n",
       "\n",
       "                        })                };                });            </script>        </div>"
      ]
     },
     "metadata": {},
     "output_type": "display_data"
    }
   ],
   "source": [
    "import math\n",
    "hover_text = []\n",
    "bubble_size = []\n",
    "# hover info\n",
    "for index, row in df.iterrows():\n",
    "    hover_text.append(('Player: {Player}<br>'+\n",
    "                      'Receptions: {Rec}<br>'+\n",
    "                      'Yards: {Yds}<br>'+\n",
    "                      '20+ Yd Catches: {twenty}<br>'+\n",
    "                      'TDs: {TD}').format(Player=row['Player'],\n",
    "                                            Rec=row['Rec'],\n",
    "                                            Yds=row['Yds'],\n",
    "                                            twenty=row['20'],\n",
    "                                            TD=row['TD']))\n",
    "\n",
    "df['text'] = hover_text\n",
    "sizeref = 1.*max(df['20'])/(50.**2)\n",
    "\n",
    "# need to add each row as a series point to use all desired elements (player name legend)\n",
    "player_names = df['Player'].tolist()\n",
    "player_data = {Player:df.query(\"Player == '%s'\" %Player)\n",
    "                              for Player in player_names}\n",
    "\n",
    "# Create figure\n",
    "fig = go.Figure()\n",
    "\n",
    "for player_name, player in player_data.items():\n",
    "    fig.add_trace(go.Scatter(\n",
    "        x=player['Rec']\n",
    "        ,y=player['Yds']\n",
    "        ,name=player_name\n",
    "        ,text=player['text']\n",
    "        ,mode='markers'\n",
    "        ,marker=dict(\n",
    "            size=player['20'],\n",
    "            sizemode='area',\n",
    "            sizeref=sizeref,\n",
    "            color=player['color_primary'],\n",
    "            line=dict(width=3,\n",
    "                     color=player['color_secondary'])\n",
    "    )\n",
    "        ))\n",
    "\n",
    "#formatting updates\n",
    "fig.update_layout(\n",
    "    title={\n",
    "        'text':\"<b>2022 NFL WR Performance: Rec x Yards x 20+ Yard Catches</b>\",\n",
    "        'x':0.5,\n",
    "        'xanchor':'center',\n",
    "        'yanchor':'top'\n",
    "    },\n",
    "    title_font_size=22,\n",
    "    xaxis_title=\"<b>Receptions</b>\",\n",
    "    yaxis_title=\"<b>Total Yards</b>\",\n",
    "    font=dict(\n",
    "        family=\"Arial\",\n",
    "        size=14\n",
    "    ),\n",
    "    plot_bgcolor='white',\n",
    "    legend=dict(itemsizing='constant')\n",
    ")\n",
    "\n",
    "fig.update_xaxes(\n",
    "    mirror=False,\n",
    "    ticks='outside',\n",
    "    showline=True,\n",
    "    linecolor='black'\n",
    ")\n",
    "\n",
    "fig.update_yaxes(\n",
    "    mirror=False,\n",
    "    ticks='outside',\n",
    "    showline=True,\n",
    "    linecolor='black'\n",
    ")\n",
    "\n",
    "fig.show()"
   ]
  }
 ],
 "metadata": {
  "kernelspec": {
   "display_name": "Python 3 (ipykernel)",
   "language": "python",
   "name": "python3"
  },
  "language_info": {
   "codemirror_mode": {
    "name": "ipython",
    "version": 3
   },
   "file_extension": ".py",
   "mimetype": "text/x-python",
   "name": "python",
   "nbconvert_exporter": "python",
   "pygments_lexer": "ipython3",
   "version": "3.9.7"
  }
 },
 "nbformat": 4,
 "nbformat_minor": 5
}
